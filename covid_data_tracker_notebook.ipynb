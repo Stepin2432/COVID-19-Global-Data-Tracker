{
 "cells": [
  {
   "cell_type": "markdown",
   "id": "70f6fe56",
   "metadata": {},
   "source": [
    "## 1. Data Loading"
   ]
  },
  {
   "cell_type": "code",
   "execution_count": null,
   "id": "1fcfcb67",
   "metadata": {},
   "outputs": [],
   "source": [
    "import pandas as pd\n",
    "\n",
    "# Load dataset\n",
    "df = pd.read_csv(\"owid-covid-data.csv\")\n",
    "\n",
    "# Preview structure\n",
    "print(df.columns)\n",
    "print(df.head())"
   ]
  },
  {
   "cell_type": "markdown",
   "id": "06b66e8c",
   "metadata": {},
   "source": [
    "## 2. Data Cleaning"
   ]
  },
  {
   "cell_type": "code",
   "execution_count": null,
   "id": "564a7e2b",
   "metadata": {},
   "outputs": [],
   "source": [
    "# Filter countries\n",
    "countries = ['Kenya', 'United States', 'India']\n",
    "df = df[df['location'].isin(countries)]\n",
    "\n",
    "# Convert date column\n",
    "df['date'] = pd.to_datetime(df['date'])\n",
    "\n",
    "# Drop rows with missing critical data\n",
    "df.dropna(subset=['total_cases', 'total_deaths'], inplace=True)\n",
    "\n",
    "# Fill remaining missing values\n",
    "df.fillna(0, inplace=True)"
   ]
  },
  {
   "cell_type": "markdown",
   "id": "4d705c60",
   "metadata": {},
   "source": [
    "## 📊 3. Exploratory Data Analysis (EDA)"
   ]
  },
  {
   "cell_type": "code",
   "execution_count": null,
   "id": "82a0c486",
   "metadata": {},
   "outputs": [],
   "source": [
    "import matplotlib.pyplot as plt\n",
    "\n",
    "# Plot total cases\n",
    "plt.figure(figsize=(12, 6))\n",
    "for country in countries:\n",
    "    data = df[df['location'] == country]\n",
    "    plt.plot(data['date'], data['total_cases'], label=country)\n",
    "\n",
    "plt.title(\"Total COVID-19 Cases Over Time\")\n",
    "plt.xlabel(\"Date\")\n",
    "plt.ylabel(\"Total Cases\")\n",
    "plt.legend()\n",
    "plt.tight_layout()\n",
    "plt.show()"
   ]
  },
  {
   "cell_type": "markdown",
   "id": "453444e4",
   "metadata": {},
   "source": [
    "## 💉 4. Vaccination Analysis"
   ]
  },
  {
   "cell_type": "code",
   "execution_count": null,
   "id": "b61fb365",
   "metadata": {},
   "outputs": [],
   "source": [
    "# Plot total vaccinations\n",
    "plt.figure(figsize=(12, 6))\n",
    "for country in countries:\n",
    "    data = df[df['location'] == country]\n",
    "    plt.plot(data['date'], data['total_vaccinations'], label=country)\n",
    "\n",
    "plt.title(\"COVID-19 Vaccinations Over Time\")\n",
    "plt.xlabel(\"Date\")\n",
    "plt.ylabel(\"Total Vaccinations\")\n",
    "plt.legend()\n",
    "plt.tight_layout()\n",
    "plt.show()"
   ]
  },
  {
   "cell_type": "markdown",
   "id": "44f0069c",
   "metadata": {},
   "source": [
    "## 🗺️ 5. (Optional) Choropleth Map"
   ]
  },
  {
   "cell_type": "code",
   "execution_count": null,
   "id": "438d0e37",
   "metadata": {},
   "outputs": [],
   "source": [
    "import plotly.express as px\n",
    "\n",
    "# Latest data\n",
    "latest_df = df[df['date'] == df['date'].max()]\n",
    "\n",
    "# Plot map\n",
    "fig = px.choropleth(latest_df,\n",
    "                    locations=\"iso_code\",\n",
    "                    color=\"total_cases\",\n",
    "                    hover_name=\"location\",\n",
    "                    title=\"Total COVID-19 Cases by Country\",\n",
    "                    color_continuous_scale=\"Reds\")\n",
    "fig.show()"
   ]
  },
  {
   "cell_type": "markdown",
   "id": "9970859f",
   "metadata": {},
   "source": [
    "## 📝 6. Key Insights"
   ]
  },
  {
   "cell_type": "code",
   "execution_count": null,
   "id": "bb9a8afb",
   "metadata": {
    "vscode": {
     "languageId": "markdown"
    }
   },
   "outputs": [],
   "source": [
    "\n",
    "- India had the highest surge during mid-2021.\n",
    "- The US achieved rapid vaccination progress.\n",
    "- Kenya maintained a relatively low case count.\n",
    "- There is a clear correlation between vaccine coverage and death rate."
   ]
  }
 ],
 "metadata": {
  "language_info": {
   "name": "python"
  }
 },
 "nbformat": 4,
 "nbformat_minor": 5
}
